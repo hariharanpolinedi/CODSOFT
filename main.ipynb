{
 "cells": [
  {
   "cell_type": "code",
   "execution_count": 1,
   "id": "d654a1ac",
   "metadata": {},
   "outputs": [
    {
     "data": {
      "text/plain": [
       "(   1      Oscar et la dame rose (2009)        drama  \\\n",
       " 0  2                      Cupid (1997)     thriller   \n",
       " 1  3  Young, Wild and Wonderful (1980)        adult   \n",
       " 2  4             The Secret Sin (1915)        drama   \n",
       " 3  5            The Unrecovered (2007)        drama   \n",
       " 4  6            Quality Control (2011)  documentary   \n",
       " \n",
       "   Listening in to a conversation between his doctor and parents, 10-year-old Oscar learns what nobody has the courage to tell him. He only has a few weeks to live. Furious, he refuses to speak to anyone except straight-talking Rose, the lady in pink he meets on the hospital stairs. As Christmas approaches, Rose uses her fantastical experiences as a professional wrestler, her imagination, wit and charm to allow Oscar to live life and love to the full, in the company of his friends Pop Corn, Einstein, Bacon and childhood sweetheart Peggy Blue.  \n",
       " 0  A brother and sister with a past incestuous re...                                                                                                                                                                                                                                                                                                                                                                                                                                                                                                                 \n",
       " 1  As the bus empties the students for their fiel...                                                                                                                                                                                                                                                                                                                                                                                                                                                                                                                 \n",
       " 2  To help their unemployed father make ends meet...                                                                                                                                                                                                                                                                                                                                                                                                                                                                                                                 \n",
       " 3  The film's title refers not only to the un-rec...                                                                                                                                                                                                                                                                                                                                                                                                                                                                                                                 \n",
       " 4  Quality Control consists of a series of 16mm s...                                                                                                                                                                                                                                                                                                                                                                                                                                                                                                                 ,\n",
       "    1         Edgar's Lunch (1998)  \\\n",
       " 0  2     La guerra de papá (1977)   \n",
       " 1  3  Off the Beaten Track (2010)   \n",
       " 2  4       Meu Amigo Hindu (2015)   \n",
       " 3  5            Er nu zhai (1955)   \n",
       " 4  6           Riddle Room (2016)   \n",
       " \n",
       "   L.R. Brane loves his life - his car, his apartment, his job, but especially his girlfriend, Vespa. One day while showering, Vespa runs out of shampoo. L.R. runs across the street to a convenience store to buy some more, a quick trip of no more than a few minutes. When he returns, Vespa is gone and every trace of her existence has been wiped out. L.R.'s life becomes a tortured existence as one strange event after another occurs to confirm in his mind that a conspiracy is working against his finding Vespa.  \n",
       " 0  Spain, March 1964: Quico is a very naughty chi...                                                                                                                                                                                                                                                                                                                                                                                                                                                                             \n",
       " 1  One year in the life of Albin and his family o...                                                                                                                                                                                                                                                                                                                                                                                                                                                                             \n",
       " 2  His father has died, he hasn't spoken with his...                                                                                                                                                                                                                                                                                                                                                                                                                                                                             \n",
       " 3  Before he was known internationally as a marti...                                                                                                                                                                                                                                                                                                                                                                                                                                                                             \n",
       " 4  Emily Burns is being held captive in a room wi...                                                                                                                                                                                                                                                                                                                                                                                                                                                                             ,\n",
       "    1         Edgar's Lunch (1998)     thriller  \\\n",
       " 0  2     La guerra de papá (1977)       comedy   \n",
       " 1  3  Off the Beaten Track (2010)  documentary   \n",
       " 2  4       Meu Amigo Hindu (2015)        drama   \n",
       " 3  5            Er nu zhai (1955)        drama   \n",
       " 4  6           Riddle Room (2016)       horror   \n",
       " \n",
       "   L.R. Brane loves his life - his car, his apartment, his job, but especially his girlfriend, Vespa. One day while showering, Vespa runs out of shampoo. L.R. runs across the street to a convenience store to buy some more, a quick trip of no more than a few minutes. When he returns, Vespa is gone and every trace of her existence has been wiped out. L.R.'s life becomes a tortured existence as one strange event after another occurs to confirm in his mind that a conspiracy is working against his finding Vespa.  \n",
       " 0  Spain, March 1964: Quico is a very naughty chi...                                                                                                                                                                                                                                                                                                                                                                                                                                                                             \n",
       " 1  One year in the life of Albin and his family o...                                                                                                                                                                                                                                                                                                                                                                                                                                                                             \n",
       " 2  His father has died, he hasn't spoken with his...                                                                                                                                                                                                                                                                                                                                                                                                                                                                             \n",
       " 3  Before he was known internationally as a marti...                                                                                                                                                                                                                                                                                                                                                                                                                                                                             \n",
       " 4  Emily Burns is being held captive in a room wi...                                                                                                                                                                                                                                                                                                                                                                                                                                                                             )"
      ]
     },
     "execution_count": 1,
     "metadata": {},
     "output_type": "execute_result"
    }
   ],
   "source": [
    "import pandas as pd\n",
    "import numpy as np\n",
    "import re\n",
    "import nltk\n",
    "from nltk.corpus import stopwords\n",
    "from nltk.stem import WordNetLemmatizer\n",
    "from sklearn.feature_extraction.text import TfidfVectorizer\n",
    "from sklearn.naive_bayes import MultinomialNB\n",
    "from sklearn.linear_model import LogisticRegression\n",
    "from sklearn.svm import SVC\n",
    "from sklearn.metrics import classification_report, accuracy_score\n",
    "import joblib\n",
    "\n",
    "\n",
    "# Load the datasets\n",
    "train_df = pd.read_csv(\"C:\\\\Users\\\\harih\\\\OneDrive\\\\Desktop\\\\CODSOFT\\\\TASK-1 MOVIE\\\\Genre Classification Dataset\\\\train_data.txt\", sep=' ::: ', engine='python')\n",
    "test_df = pd.read_csv(\"C:\\\\Users\\\\harih\\\\OneDrive\\\\Desktop\\\\CODSOFT\\\\TASK-1 MOVIE\\\\Genre Classification Dataset\\\\test_data.txt\", sep=' ::: ', engine='python')\n",
    "test_solution_df = pd.read_csv(\"C:\\\\Users\\\\harih\\\\OneDrive\\\\Desktop\\\\CODSOFT\\\\TASK-1 MOVIE\\\\Genre Classification Dataset\\\\test_data_solution.txt\", sep=' ::: ', engine='python')\n",
    "\n",
    "# Display the first few rows of the datasets\n",
    "train_df.head(), test_df.head(), test_solution_df.head()\n"
   ]
  },
  {
   "cell_type": "code",
   "execution_count": 2,
   "id": "21e7aaef",
   "metadata": {},
   "outputs": [
    {
     "name": "stdout",
     "output_type": "stream",
     "text": [
      "Training Dataset:\n",
      "   ID                             TITLE     GENRE  \\\n",
      "0   1      Oscar et la dame rose (2009)     drama   \n",
      "1   2                      Cupid (1997)  thriller   \n",
      "2   3  Young, Wild and Wonderful (1980)     adult   \n",
      "3   4             The Secret Sin (1915)     drama   \n",
      "4   5            The Unrecovered (2007)     drama   \n",
      "\n",
      "                                         DESCRIPTION  \n",
      "0  Listening in to a conversation between his doc...  \n",
      "1  A brother and sister with a past incestuous re...  \n",
      "2  As the bus empties the students for their fiel...  \n",
      "3  To help their unemployed father make ends meet...  \n",
      "4  The film's title refers not only to the un-rec...  \n"
     ]
    }
   ],
   "source": [
    "# Load training data into a dataframe\n",
    "train_data_file = \"C:\\\\Users\\\\harih\\\\OneDrive\\\\Desktop\\\\CODSOFT\\\\TASK-1 MOVIE\\\\Genre Classification Dataset\\\\train_data.txt\"\n",
    "train_df = pd.read_csv(train_data_file, sep=' ::: ', header=None, engine='python')\n",
    "\n",
    "# Assign column names\n",
    "train_df.columns = ['ID', 'TITLE', 'GENRE', 'DESCRIPTION']\n",
    "\n",
    "# Display the dataframe\n",
    "print(\"Training Dataset:\")\n",
    "print(train_df.head())\n",
    "\n"
   ]
  },
  {
   "cell_type": "code",
   "execution_count": 3,
   "id": "e5f89954",
   "metadata": {},
   "outputs": [
    {
     "name": "stdout",
     "output_type": "stream",
     "text": [
      "\n",
      "Test Dataset:\n",
      "   ID                        TITLE  \\\n",
      "0   1         Edgar's Lunch (1998)   \n",
      "1   2     La guerra de papá (1977)   \n",
      "2   3  Off the Beaten Track (2010)   \n",
      "3   4       Meu Amigo Hindu (2015)   \n",
      "4   5            Er nu zhai (1955)   \n",
      "\n",
      "                                         DESCRIPTION  \n",
      "0  L.R. Brane loves his life - his car, his apart...  \n",
      "1  Spain, March 1964: Quico is a very naughty chi...  \n",
      "2  One year in the life of Albin and his family o...  \n",
      "3  His father has died, he hasn't spoken with his...  \n",
      "4  Before he was known internationally as a marti...  \n"
     ]
    }
   ],
   "source": [
    "# Load test data into a dataframe\n",
    "test_data_file = \"C:\\\\Users\\\\harih\\\\OneDrive\\\\Desktop\\\\CODSOFT\\\\TASK-1 MOVIE\\\\Genre Classification Dataset\\\\test_data.txt\"\n",
    "test_df = pd.read_csv(test_data_file, sep=' ::: ', header=None, engine='python')\n",
    "\n",
    "# Assign column names\n",
    "test_df.columns = ['ID', 'TITLE', 'DESCRIPTION']\n",
    "\n",
    "# Display the dataframe\n",
    "print(\"\\nTest Dataset:\")\n",
    "print(test_df.head())\n"
   ]
  },
  {
   "cell_type": "code",
   "execution_count": 4,
   "id": "3a505a59",
   "metadata": {},
   "outputs": [
    {
     "name": "stdout",
     "output_type": "stream",
     "text": [
      "\n",
      "Test Data Solutions Dataset:\n",
      "   ID                        TITLE        GENRE  \\\n",
      "0   1         Edgar's Lunch (1998)     thriller   \n",
      "1   2     La guerra de papá (1977)       comedy   \n",
      "2   3  Off the Beaten Track (2010)  documentary   \n",
      "3   4       Meu Amigo Hindu (2015)        drama   \n",
      "4   5            Er nu zhai (1955)        drama   \n",
      "\n",
      "                                         DESCRIPTION  \n",
      "0  L.R. Brane loves his life - his car, his apart...  \n",
      "1  Spain, March 1964: Quico is a very naughty chi...  \n",
      "2  One year in the life of Albin and his family o...  \n",
      "3  His father has died, he hasn't spoken with his...  \n",
      "4  Before he was known internationally as a marti...  \n"
     ]
    }
   ],
   "source": [
    "# Load test data solutions into a dataframe\n",
    "test_solution_data_file = \"C:\\\\Users\\\\harih\\\\OneDrive\\\\Desktop\\\\CODSOFT\\\\TASK-1 MOVIE\\\\Genre Classification Dataset\\\\test_data_solution.txt\"\n",
    "test_solution_df = pd.read_csv(test_solution_data_file, sep=' ::: ', header=None, engine='python')\n",
    "\n",
    "# Assign column names\n",
    "test_solution_df.columns = ['ID', 'TITLE', 'GENRE', 'DESCRIPTION']\n",
    "\n",
    "# Display the dataframe\n",
    "print(\"\\nTest Data Solutions Dataset:\")\n",
    "print(test_solution_df.head())\n"
   ]
  },
  {
   "cell_type": "code",
   "execution_count": 5,
   "id": "b52e9ae6",
   "metadata": {},
   "outputs": [
    {
     "data": {
      "text/plain": [
       "(                                         DESCRIPTION  \\\n",
       " 0  Listening in to a conversation between his doc...   \n",
       " 1  A brother and sister with a past incestuous re...   \n",
       " 2  As the bus empties the students for their fiel...   \n",
       " 3  To help their unemployed father make ends meet...   \n",
       " 4  The film's title refers not only to the un-rec...   \n",
       " \n",
       "                                    clean_description  \n",
       " 0  listening conversation doctor parent 10 year o...  \n",
       " 1  brother sister past incestuous relationship cu...  \n",
       " 2  bus empty student field trip museum natural hi...  \n",
       " 3  help unemployed father make end meet edith twi...  \n",
       " 4  film title refers un recovered body ground zer...  ,\n",
       "                                          DESCRIPTION  \\\n",
       " 0  L.R. Brane loves his life - his car, his apart...   \n",
       " 1  Spain, March 1964: Quico is a very naughty chi...   \n",
       " 2  One year in the life of Albin and his family o...   \n",
       " 3  His father has died, he hasn't spoken with his...   \n",
       " 4  Before he was known internationally as a marti...   \n",
       " \n",
       "                                    clean_description  \n",
       " 0  l r brane love life car apartment job especial...  \n",
       " 1  spain march 1964 quico naughty child three bel...  \n",
       " 2  one year life albin family shepherd north tran...  \n",
       " 3  father died spoken brother 10 year serious can...  \n",
       " 4  known internationally martial art superstar br...  ,\n",
       "                                          DESCRIPTION  \\\n",
       " 0  L.R. Brane loves his life - his car, his apart...   \n",
       " 1  Spain, March 1964: Quico is a very naughty chi...   \n",
       " 2  One year in the life of Albin and his family o...   \n",
       " 3  His father has died, he hasn't spoken with his...   \n",
       " 4  Before he was known internationally as a marti...   \n",
       " \n",
       "                                    clean_description  \n",
       " 0  l r brane love life car apartment job especial...  \n",
       " 1  spain march 1964 quico naughty child three bel...  \n",
       " 2  one year life albin family shepherd north tran...  \n",
       " 3  father died spoken brother 10 year serious can...  \n",
       " 4  known internationally martial art superstar br...  )"
      ]
     },
     "execution_count": 5,
     "metadata": {},
     "output_type": "execute_result"
    }
   ],
   "source": [
    "\n",
    "stop_words = set(stopwords.words('english'))\n",
    "lemmatizer = WordNetLemmatizer()\n",
    "def preprocess_text(text):\n",
    "    text = re.sub(r'\\W', ' ', text)  # Remove all non-word characters\n",
    "    text = re.sub(r'\\s+', ' ', text)  # Replace multiple spaces with single space\n",
    "    text = text.lower().strip()  # Convert to lowercase and strip whitespace\n",
    "    tokens = text.split()  # Tokenize\n",
    "    tokens = [lemmatizer.lemmatize(token) for token in tokens if token not in stop_words]  # Lemmatize and remove stopwords\n",
    "    return ' '.join(tokens)\n",
    "train_df['clean_description'] = train_df['DESCRIPTION'].apply(preprocess_text)\n",
    "test_df['clean_description'] = test_df['DESCRIPTION'].apply(preprocess_text)\n",
    "test_solution_df['clean_description'] = test_solution_df['DESCRIPTION'].apply(preprocess_text)\n",
    "train_df[['DESCRIPTION', 'clean_description']].head(), test_df[['DESCRIPTION', 'clean_description']].head(), test_solution_df[['DESCRIPTION', 'clean_description']].head()\n"
   ]
  },
  {
   "cell_type": "code",
   "execution_count": 6,
   "id": "b38cbddf",
   "metadata": {},
   "outputs": [
    {
     "data": {
      "text/plain": [
       "((54214, 5000), (54200, 5000))"
      ]
     },
     "execution_count": 6,
     "metadata": {},
     "output_type": "execute_result"
    }
   ],
   "source": [
    "\n",
    "from sklearn.feature_extraction.text import TfidfVectorizer\n",
    "tfidf_vectorizer = TfidfVectorizer(max_features=5000)\n",
    "X_train = tfidf_vectorizer.fit_transform(train_df['clean_description']).toarray()\n",
    "y_train = train_df['GENRE']\n",
    "X_test = tfidf_vectorizer.transform(test_df['clean_description']).toarray()\n",
    "X_train.shape, X_test.shape\n"
   ]
  },
  {
   "cell_type": "code",
   "execution_count": 7,
   "id": "9b122abf",
   "metadata": {},
   "outputs": [
    {
     "name": "stdout",
     "output_type": "stream",
     "text": [
      "Naive Bayes trained successfully.\n",
      "Logistic Regression trained successfully.\n"
     ]
    }
   ],
   "source": [
    "\n",
    "from sklearn.naive_bayes import MultinomialNB\n",
    "from sklearn.linear_model import LogisticRegression\n",
    "from sklearn.svm import SVC\n",
    "\n",
    "models = {\n",
    "    \"Naive Bayes\": MultinomialNB(),\n",
    "    \"Logistic Regression\": LogisticRegression(max_iter=1000),\n",
    "    \n",
    "}\n",
    "\n",
    "for model_name, model in models.items():\n",
    "    model.fit(X_train, y_train)\n",
    "    print(f\"{model_name} trained successfully.\")\n"
   ]
  },
  {
   "cell_type": "code",
   "execution_count": 8,
   "id": "7cb8f2cb",
   "metadata": {},
   "outputs": [
    {
     "name": "stderr",
     "output_type": "stream",
     "text": [
      "c:\\Users\\harih\\AppData\\Local\\Programs\\Python\\Python311\\Lib\\site-packages\\sklearn\\metrics\\_classification.py:1469: UndefinedMetricWarning: Precision and F-score are ill-defined and being set to 0.0 in labels with no predicted samples. Use `zero_division` parameter to control this behavior.\n",
      "  _warn_prf(average, modifier, msg_start, len(result))\n",
      "c:\\Users\\harih\\AppData\\Local\\Programs\\Python\\Python311\\Lib\\site-packages\\sklearn\\metrics\\_classification.py:1469: UndefinedMetricWarning: Precision and F-score are ill-defined and being set to 0.0 in labels with no predicted samples. Use `zero_division` parameter to control this behavior.\n",
      "  _warn_prf(average, modifier, msg_start, len(result))\n",
      "c:\\Users\\harih\\AppData\\Local\\Programs\\Python\\Python311\\Lib\\site-packages\\sklearn\\metrics\\_classification.py:1469: UndefinedMetricWarning: Precision and F-score are ill-defined and being set to 0.0 in labels with no predicted samples. Use `zero_division` parameter to control this behavior.\n",
      "  _warn_prf(average, modifier, msg_start, len(result))\n"
     ]
    },
    {
     "name": "stdout",
     "output_type": "stream",
     "text": [
      "Naive Bayes - Accuracy: 0.5206088560885609\n",
      "              precision    recall  f1-score   support\n",
      "\n",
      "      action       0.58      0.10      0.17      1314\n",
      "       adult       0.49      0.08      0.14       590\n",
      "   adventure       0.81      0.09      0.16       775\n",
      "   animation       0.00      0.00      0.00       498\n",
      "   biography       0.00      0.00      0.00       264\n",
      "      comedy       0.52      0.43      0.47      7446\n",
      "       crime       0.00      0.00      0.00       505\n",
      " documentary       0.57      0.87      0.69     13096\n",
      "       drama       0.46      0.82      0.59     13612\n",
      "      family       1.00      0.00      0.01       783\n",
      "     fantasy       0.00      0.00      0.00       322\n",
      "   game-show       0.98      0.22      0.36       193\n",
      "     history       0.00      0.00      0.00       243\n",
      "      horror       0.70      0.33      0.45      2204\n",
      "       music       0.74      0.14      0.24       731\n",
      "     musical       0.00      0.00      0.00       276\n",
      "     mystery       0.00      0.00      0.00       318\n",
      "        news       0.00      0.00      0.00       181\n",
      "  reality-tv       0.50      0.01      0.03       883\n",
      "     romance       0.00      0.00      0.00       672\n",
      "      sci-fi       0.60      0.04      0.08       646\n",
      "       short       0.60      0.12      0.20      5072\n",
      "       sport       0.82      0.08      0.15       431\n",
      "   talk-show       0.00      0.00      0.00       391\n",
      "    thriller       0.35      0.01      0.03      1590\n",
      "         war       0.00      0.00      0.00       132\n",
      "     western       0.95      0.62      0.75      1032\n",
      "\n",
      "    accuracy                           0.52     54200\n",
      "   macro avg       0.39      0.15      0.17     54200\n",
      "weighted avg       0.52      0.52      0.44     54200\n",
      "\n"
     ]
    },
    {
     "name": "stderr",
     "output_type": "stream",
     "text": [
      "c:\\Users\\harih\\AppData\\Local\\Programs\\Python\\Python311\\Lib\\site-packages\\sklearn\\metrics\\_classification.py:1469: UndefinedMetricWarning: Precision and F-score are ill-defined and being set to 0.0 in labels with no predicted samples. Use `zero_division` parameter to control this behavior.\n",
      "  _warn_prf(average, modifier, msg_start, len(result))\n"
     ]
    },
    {
     "name": "stdout",
     "output_type": "stream",
     "text": [
      "Logistic Regression - Accuracy: 0.5871586715867159\n",
      "              precision    recall  f1-score   support\n",
      "\n",
      "      action       0.46      0.29      0.36      1314\n",
      "       adult       0.62      0.27      0.38       590\n",
      "   adventure       0.57      0.18      0.27       775\n",
      "   animation       0.51      0.08      0.14       498\n",
      "   biography       0.00      0.00      0.00       264\n",
      "      comedy       0.54      0.59      0.56      7446\n",
      "       crime       0.32      0.04      0.07       505\n",
      " documentary       0.67      0.85      0.75     13096\n",
      "       drama       0.55      0.77      0.64     13612\n",
      "      family       0.49      0.10      0.17       783\n",
      "     fantasy       0.58      0.06      0.11       322\n",
      "   game-show       0.83      0.54      0.65       193\n",
      "     history       0.00      0.00      0.00       243\n",
      "      horror       0.65      0.58      0.61      2204\n",
      "       music       0.64      0.45      0.53       731\n",
      "     musical       0.20      0.01      0.03       276\n",
      "     mystery       0.38      0.02      0.04       318\n",
      "        news       0.79      0.06      0.11       181\n",
      "  reality-tv       0.50      0.20      0.28       883\n",
      "     romance       0.48      0.03      0.06       672\n",
      "      sci-fi       0.55      0.27      0.36       646\n",
      "       short       0.47      0.34      0.39      5072\n",
      "       sport       0.67      0.27      0.38       431\n",
      "   talk-show       0.60      0.20      0.30       391\n",
      "    thriller       0.39      0.14      0.21      1590\n",
      "         war       0.75      0.02      0.04       132\n",
      "     western       0.90      0.76      0.83      1032\n",
      "\n",
      "    accuracy                           0.59     54200\n",
      "   macro avg       0.52      0.26      0.31     54200\n",
      "weighted avg       0.57      0.59      0.55     54200\n",
      "\n"
     ]
    },
    {
     "name": "stderr",
     "output_type": "stream",
     "text": [
      "c:\\Users\\harih\\AppData\\Local\\Programs\\Python\\Python311\\Lib\\site-packages\\sklearn\\metrics\\_classification.py:1469: UndefinedMetricWarning: Precision and F-score are ill-defined and being set to 0.0 in labels with no predicted samples. Use `zero_division` parameter to control this behavior.\n",
      "  _warn_prf(average, modifier, msg_start, len(result))\n",
      "c:\\Users\\harih\\AppData\\Local\\Programs\\Python\\Python311\\Lib\\site-packages\\sklearn\\metrics\\_classification.py:1469: UndefinedMetricWarning: Precision and F-score are ill-defined and being set to 0.0 in labels with no predicted samples. Use `zero_division` parameter to control this behavior.\n",
      "  _warn_prf(average, modifier, msg_start, len(result))\n"
     ]
    }
   ],
   "source": [
    "\n",
    "from sklearn.metrics import accuracy_score, classification_report\n",
    "y_test = test_solution_df['GENRE']\n",
    "for model_name, model in models.items():\n",
    "    y_pred = model.predict(X_test)\n",
    "    accuracy = accuracy_score(y_test, y_pred)\n",
    "    report = classification_report(y_test, y_pred)\n",
    "    print(f\"{model_name} - Accuracy: {accuracy}\")\n",
    "    print(report)\n"
   ]
  },
  {
   "cell_type": "code",
   "execution_count": 9,
   "id": "3b77fea5",
   "metadata": {},
   "outputs": [
    {
     "data": {
      "text/plain": [
       "['tfidf_vectorizer.pkl']"
      ]
     },
     "execution_count": 9,
     "metadata": {},
     "output_type": "execute_result"
    }
   ],
   "source": [
    "best_model = LogisticRegression(max_iter=1000)\n",
    "best_model.fit(X_train, y_train)\n",
    "from joblib import dump\n",
    "dump(best_model, 'movie_genre_classifier.pkl')\n",
    "dump(tfidf_vectorizer, 'tfidf_vectorizer.pkl')\n"
   ]
  }
 ],
 "metadata": {
  "kernelspec": {
   "display_name": "Python 3 (ipykernel)",
   "language": "python",
   "name": "python3"
  },
  "language_info": {
   "codemirror_mode": {
    "name": "ipython",
    "version": 3
   },
   "file_extension": ".py",
   "mimetype": "text/x-python",
   "name": "python",
   "nbconvert_exporter": "python",
   "pygments_lexer": "ipython3",
   "version": "3.11.2"
  }
 },
 "nbformat": 4,
 "nbformat_minor": 5
}
